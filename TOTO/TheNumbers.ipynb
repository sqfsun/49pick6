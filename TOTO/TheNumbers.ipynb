{
 "cells": [
  {
   "cell_type": "code",
   "execution_count": 1,
   "metadata": {
    "collapsed": true
   },
   "outputs": [],
   "source": [
    "import requests\n",
    "from selenium import webdriver\n",
    "from selenium.webdriver.common.keys import Keys"
   ]
  },
  {
   "cell_type": "code",
   "execution_count": 2,
   "metadata": {
    "collapsed": true
   },
   "outputs": [],
   "source": [
    "import pandas as pd"
   ]
  },
  {
   "cell_type": "markdown",
   "metadata": {},
   "source": [
    "# Scrape the results"
   ]
  },
  {
   "cell_type": "code",
   "execution_count": 3,
   "metadata": {
    "collapsed": true
   },
   "outputs": [],
   "source": [
    "driver = webdriver.Chrome()\n",
    "driver.get(\"http://www.lotoxp.com/history.php?game=Singapore_Toto\")"
   ]
  },
  {
   "cell_type": "code",
   "execution_count": 4,
   "metadata": {
    "collapsed": true
   },
   "outputs": [],
   "source": [
    "df=pd.DataFrame(columns=[\"Date\",'1st#','2nd#','3rd#','4th#','5th#','6th#','7th#'])\n",
    "df1=[]\n",
    "pg=int(driver.find_element_by_xpath(\"//td[@class='page']\").text)\n",
    "while pg !=6:\n",
    "    #pg=int(driver.find_element_by_xpath(\"//td[@class='page']\").text)\n",
    "    col=[]\n",
    "    search_box = driver.find_element_by_xpath(\"//table[@id='tbl1']/tbody\")\n",
    "    for tr in search_box.find_elements_by_tag_name('tr'):\n",
    "        row=tr.text\n",
    "        col.append(row)\n",
    "    for i in range(0,len(col)):\n",
    "        col[i]=col[i].split()\n",
    "    df=df.append(pd.DataFrame(col,columns=[\"Date\",'1st#','2nd#','3rd#','4th#','5th#','6th#','7th#']))\n",
    "    #df.concat(df,df1)\n",
    "    pg+=1\n",
    "    #next page\n",
    "\n",
    "    if driver.find_element_by_xpath(\"//td[@class='page']\").text !='6':\n",
    "        element = driver.find_element_by_xpath('/html/body/div[2]/table/tbody/tr/td[2]/table/tbody/tr/td[4]')\n",
    "        element.click()\n",
    "\n",
    "driver.close()    "
   ]
  },
  {
   "cell_type": "code",
   "execution_count": 5,
   "metadata": {
    "collapsed": true
   },
   "outputs": [],
   "source": [
    "df[['1st#','2nd#','3rd#','4th#','5th#','6th#','7th#']]=df[['1st#','2nd#','3rd#','4th#','5th#','6th#','7th#']].apply(pd.to_numeric)"
   ]
  },
  {
   "cell_type": "code",
   "execution_count": 6,
   "metadata": {
    "collapsed": true
   },
   "outputs": [],
   "source": [
    "#type(df.iloc[1][1])\n",
    "df['Date']=pd.to_datetime(df['Date'])"
   ]
  },
  {
   "cell_type": "code",
   "execution_count": 7,
   "metadata": {
    "collapsed": true
   },
   "outputs": [],
   "source": [
    "df.to_excel('500.xlsx')"
   ]
  },
  {
   "cell_type": "code",
   "execution_count": 8,
   "metadata": {},
   "outputs": [
    {
     "data": {
      "text/html": [
       "<div>\n",
       "<style scoped>\n",
       "    .dataframe tbody tr th:only-of-type {\n",
       "        vertical-align: middle;\n",
       "    }\n",
       "\n",
       "    .dataframe tbody tr th {\n",
       "        vertical-align: top;\n",
       "    }\n",
       "\n",
       "    .dataframe thead th {\n",
       "        text-align: right;\n",
       "    }\n",
       "</style>\n",
       "<table border=\"1\" class=\"dataframe\">\n",
       "  <thead>\n",
       "    <tr style=\"text-align: right;\">\n",
       "      <th></th>\n",
       "      <th>Date</th>\n",
       "      <th>1st#</th>\n",
       "      <th>2nd#</th>\n",
       "      <th>3rd#</th>\n",
       "      <th>4th#</th>\n",
       "      <th>5th#</th>\n",
       "      <th>6th#</th>\n",
       "      <th>7th#</th>\n",
       "    </tr>\n",
       "  </thead>\n",
       "  <tbody>\n",
       "    <tr>\n",
       "      <th>0</th>\n",
       "      <td>2019-02-28</td>\n",
       "      <td>20</td>\n",
       "      <td>24</td>\n",
       "      <td>27</td>\n",
       "      <td>39</td>\n",
       "      <td>43</td>\n",
       "      <td>48</td>\n",
       "      <td>8</td>\n",
       "    </tr>\n",
       "    <tr>\n",
       "      <th>1</th>\n",
       "      <td>2019-02-25</td>\n",
       "      <td>9</td>\n",
       "      <td>12</td>\n",
       "      <td>27</td>\n",
       "      <td>28</td>\n",
       "      <td>38</td>\n",
       "      <td>44</td>\n",
       "      <td>10</td>\n",
       "    </tr>\n",
       "    <tr>\n",
       "      <th>2</th>\n",
       "      <td>2019-02-22</td>\n",
       "      <td>5</td>\n",
       "      <td>8</td>\n",
       "      <td>14</td>\n",
       "      <td>16</td>\n",
       "      <td>34</td>\n",
       "      <td>39</td>\n",
       "      <td>23</td>\n",
       "    </tr>\n",
       "    <tr>\n",
       "      <th>3</th>\n",
       "      <td>2019-02-18</td>\n",
       "      <td>25</td>\n",
       "      <td>26</td>\n",
       "      <td>29</td>\n",
       "      <td>31</td>\n",
       "      <td>46</td>\n",
       "      <td>49</td>\n",
       "      <td>21</td>\n",
       "    </tr>\n",
       "    <tr>\n",
       "      <th>4</th>\n",
       "      <td>2019-02-14</td>\n",
       "      <td>2</td>\n",
       "      <td>10</td>\n",
       "      <td>12</td>\n",
       "      <td>20</td>\n",
       "      <td>24</td>\n",
       "      <td>32</td>\n",
       "      <td>31</td>\n",
       "    </tr>\n",
       "  </tbody>\n",
       "</table>\n",
       "</div>"
      ],
      "text/plain": [
       "        Date  1st#  2nd#  3rd#  4th#  5th#  6th#  7th#\n",
       "0 2019-02-28    20    24    27    39    43    48     8\n",
       "1 2019-02-25     9    12    27    28    38    44    10\n",
       "2 2019-02-22     5     8    14    16    34    39    23\n",
       "3 2019-02-18    25    26    29    31    46    49    21\n",
       "4 2019-02-14     2    10    12    20    24    32    31"
      ]
     },
     "execution_count": 8,
     "metadata": {},
     "output_type": "execute_result"
    }
   ],
   "source": [
    "df.head()"
   ]
  },
  {
   "cell_type": "code",
   "execution_count": 9,
   "metadata": {
    "collapsed": true
   },
   "outputs": [],
   "source": [
    "freq=df['1st#'].value_counts(sort=False)"
   ]
  },
  {
   "cell_type": "code",
   "execution_count": 10,
   "metadata": {},
   "outputs": [
    {
     "data": {
      "text/plain": [
       "1     49\n",
       "2     52\n",
       "3     42\n",
       "4     29\n",
       "5     43\n",
       "6     35\n",
       "7     24\n",
       "8     30\n",
       "9     15\n",
       "10     7\n",
       "11    20\n",
       "12     8\n",
       "13     9\n",
       "14     8\n",
       "15     1\n",
       "16     8\n",
       "17     6\n",
       "18     4\n",
       "19     3\n",
       "20     4\n",
       "21     3\n",
       "22     2\n",
       "25     3\n",
       "27     1\n",
       "28     1\n",
       "31     2\n",
       "Name: 1st#, dtype: int64"
      ]
     },
     "execution_count": 10,
     "metadata": {},
     "output_type": "execute_result"
    }
   ],
   "source": [
    "freq"
   ]
  },
  {
   "cell_type": "code",
   "execution_count": null,
   "metadata": {
    "collapsed": true
   },
   "outputs": [],
   "source": []
  }
 ],
 "metadata": {
  "kernelspec": {
   "display_name": "Python 3",
   "language": "python",
   "name": "python3"
  },
  "language_info": {
   "codemirror_mode": {
    "name": "ipython",
    "version": 3
   },
   "file_extension": ".py",
   "mimetype": "text/x-python",
   "name": "python",
   "nbconvert_exporter": "python",
   "pygments_lexer": "ipython3",
   "version": "3.6.1"
  }
 },
 "nbformat": 4,
 "nbformat_minor": 2
}
